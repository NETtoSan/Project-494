{
 "cells": [
  {
   "cell_type": "markdown",
   "id": "030f3025",
   "metadata": {},
   "source": [
    "# Install these librarires if you havent already"
   ]
  },
  {
   "cell_type": "code",
   "execution_count": null,
   "id": "c2dae40a",
   "metadata": {},
   "outputs": [],
   "source": [
    "%pip install -r requirements.txt"
   ]
  },
  {
   "cell_type": "markdown",
   "id": "a795fa5a",
   "metadata": {},
   "source": [
    "# If you wanted to run streamlit main.py\n",
    "## Run the below code block only"
   ]
  },
  {
   "cell_type": "code",
   "execution_count": null,
   "id": "451d241d",
   "metadata": {},
   "outputs": [],
   "source": [
    "!python -m streamlit run main.py "
   ]
  }
 ],
 "metadata": {
  "kernelspec": {
   "display_name": "Python 3",
   "language": "python",
   "name": "python3"
  },
  "language_info": {
   "codemirror_mode": {
    "name": "ipython",
    "version": 3
   },
   "file_extension": ".py",
   "mimetype": "text/x-python",
   "name": "python",
   "nbconvert_exporter": "python",
   "pygments_lexer": "ipython3",
   "version": "3.12.10"
  }
 },
 "nbformat": 4,
 "nbformat_minor": 5
}
