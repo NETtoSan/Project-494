{
 "cells": [
  {
   "cell_type": "markdown",
   "id": "030f3025",
   "metadata": {},
   "source": [
    "# Install these librarires if you havent already"
   ]
  },
  {
   "cell_type": "code",
   "execution_count": 4,
   "id": "c2dae40a",
   "metadata": {},
   "outputs": [
    {
     "name": "stdout",
     "output_type": "stream",
     "text": [
      "Requirement already satisfied: pandas in c:\\users\\netza\\appdata\\local\\programs\\python\\python312\\lib\\site-packages (from -r requirements.txt (line 1)) (2.2.3)\n",
      "Requirement already satisfied: streamlit in c:\\users\\netza\\appdata\\local\\programs\\python\\python312\\lib\\site-packages (from -r requirements.txt (line 2)) (1.45.1)\n",
      "Requirement already satisfied: numpy in c:\\users\\netza\\appdata\\local\\programs\\python\\python312\\lib\\site-packages (from -r requirements.txt (line 3)) (2.1.3)\n",
      "Requirement already satisfied: scikit-learn in c:\\users\\netza\\appdata\\local\\programs\\python\\python312\\lib\\site-packages (from -r requirements.txt (line 5)) (1.6.1)\n",
      "Requirement already satisfied: scipy in c:\\users\\netza\\appdata\\local\\programs\\python\\python312\\lib\\site-packages (from -r requirements.txt (line 6)) (1.15.3)\n",
      "Requirement already satisfied: matplotlib in c:\\users\\netza\\appdata\\local\\programs\\python\\python312\\lib\\site-packages (from -r requirements.txt (line 7)) (3.10.3)\n",
      "Requirement already satisfied: yfinance in c:\\users\\netza\\appdata\\local\\programs\\python\\python312\\lib\\site-packages (from -r requirements.txt (line 9)) (0.2.61)\n",
      "Collecting openpyxl (from -r requirements.txt (line 10))\n",
      "  Downloading openpyxl-3.1.5-py2.py3-none-any.whl.metadata (2.5 kB)\n",
      "Requirement already satisfied: python-dateutil>=2.8.2 in c:\\users\\netza\\appdata\\local\\programs\\python\\python312\\lib\\site-packages (from pandas->-r requirements.txt (line 1)) (2.9.0.post0)\n",
      "Requirement already satisfied: pytz>=2020.1 in c:\\users\\netza\\appdata\\local\\programs\\python\\python312\\lib\\site-packages (from pandas->-r requirements.txt (line 1)) (2025.2)\n",
      "Requirement already satisfied: tzdata>=2022.7 in c:\\users\\netza\\appdata\\local\\programs\\python\\python312\\lib\\site-packages (from pandas->-r requirements.txt (line 1)) (2025.2)\n",
      "Requirement already satisfied: altair<6,>=4.0 in c:\\users\\netza\\appdata\\local\\programs\\python\\python312\\lib\\site-packages (from streamlit->-r requirements.txt (line 2)) (5.5.0)\n",
      "Requirement already satisfied: blinker<2,>=1.5.0 in c:\\users\\netza\\appdata\\local\\programs\\python\\python312\\lib\\site-packages (from streamlit->-r requirements.txt (line 2)) (1.9.0)\n",
      "Requirement already satisfied: cachetools<6,>=4.0 in c:\\users\\netza\\appdata\\local\\programs\\python\\python312\\lib\\site-packages (from streamlit->-r requirements.txt (line 2)) (5.5.2)\n",
      "Requirement already satisfied: click<9,>=7.0 in c:\\users\\netza\\appdata\\local\\programs\\python\\python312\\lib\\site-packages (from streamlit->-r requirements.txt (line 2)) (8.2.1)\n",
      "Requirement already satisfied: packaging<25,>=20 in c:\\users\\netza\\appdata\\local\\programs\\python\\python312\\lib\\site-packages (from streamlit->-r requirements.txt (line 2)) (24.2)\n",
      "Requirement already satisfied: pillow<12,>=7.1.0 in c:\\users\\netza\\appdata\\local\\programs\\python\\python312\\lib\\site-packages (from streamlit->-r requirements.txt (line 2)) (11.2.1)\n",
      "Requirement already satisfied: protobuf<7,>=3.20 in c:\\users\\netza\\appdata\\local\\programs\\python\\python312\\lib\\site-packages (from streamlit->-r requirements.txt (line 2)) (5.29.4)\n",
      "Requirement already satisfied: pyarrow>=7.0 in c:\\users\\netza\\appdata\\local\\programs\\python\\python312\\lib\\site-packages (from streamlit->-r requirements.txt (line 2)) (20.0.0)\n",
      "Requirement already satisfied: requests<3,>=2.27 in c:\\users\\netza\\appdata\\local\\programs\\python\\python312\\lib\\site-packages (from streamlit->-r requirements.txt (line 2)) (2.32.3)\n",
      "Requirement already satisfied: tenacity<10,>=8.1.0 in c:\\users\\netza\\appdata\\local\\programs\\python\\python312\\lib\\site-packages (from streamlit->-r requirements.txt (line 2)) (9.1.2)\n",
      "Requirement already satisfied: toml<2,>=0.10.1 in c:\\users\\netza\\appdata\\local\\programs\\python\\python312\\lib\\site-packages (from streamlit->-r requirements.txt (line 2)) (0.10.2)\n",
      "Requirement already satisfied: typing-extensions<5,>=4.4.0 in c:\\users\\netza\\appdata\\local\\programs\\python\\python312\\lib\\site-packages (from streamlit->-r requirements.txt (line 2)) (4.13.2)\n",
      "Requirement already satisfied: watchdog<7,>=2.1.5 in c:\\users\\netza\\appdata\\local\\programs\\python\\python312\\lib\\site-packages (from streamlit->-r requirements.txt (line 2)) (6.0.0)\n",
      "Requirement already satisfied: gitpython!=3.1.19,<4,>=3.0.7 in c:\\users\\netza\\appdata\\local\\programs\\python\\python312\\lib\\site-packages (from streamlit->-r requirements.txt (line 2)) (3.1.44)\n",
      "Requirement already satisfied: pydeck<1,>=0.8.0b4 in c:\\users\\netza\\appdata\\local\\programs\\python\\python312\\lib\\site-packages (from streamlit->-r requirements.txt (line 2)) (0.9.1)\n",
      "Requirement already satisfied: tornado<7,>=6.0.3 in c:\\users\\netza\\appdata\\roaming\\python\\python312\\site-packages (from streamlit->-r requirements.txt (line 2)) (6.5.1)\n",
      "Requirement already satisfied: joblib>=1.2.0 in c:\\users\\netza\\appdata\\local\\programs\\python\\python312\\lib\\site-packages (from scikit-learn->-r requirements.txt (line 5)) (1.5.1)\n",
      "Requirement already satisfied: threadpoolctl>=3.1.0 in c:\\users\\netza\\appdata\\local\\programs\\python\\python312\\lib\\site-packages (from scikit-learn->-r requirements.txt (line 5)) (3.6.0)\n",
      "Requirement already satisfied: contourpy>=1.0.1 in c:\\users\\netza\\appdata\\local\\programs\\python\\python312\\lib\\site-packages (from matplotlib->-r requirements.txt (line 7)) (1.3.2)\n",
      "Requirement already satisfied: cycler>=0.10 in c:\\users\\netza\\appdata\\local\\programs\\python\\python312\\lib\\site-packages (from matplotlib->-r requirements.txt (line 7)) (0.12.1)\n",
      "Requirement already satisfied: fonttools>=4.22.0 in c:\\users\\netza\\appdata\\local\\programs\\python\\python312\\lib\\site-packages (from matplotlib->-r requirements.txt (line 7)) (4.57.0)\n",
      "Requirement already satisfied: kiwisolver>=1.3.1 in c:\\users\\netza\\appdata\\local\\programs\\python\\python312\\lib\\site-packages (from matplotlib->-r requirements.txt (line 7)) (1.4.8)\n",
      "Requirement already satisfied: pyparsing>=2.3.1 in c:\\users\\netza\\appdata\\local\\programs\\python\\python312\\lib\\site-packages (from matplotlib->-r requirements.txt (line 7)) (3.2.3)\n",
      "Requirement already satisfied: multitasking>=0.0.7 in c:\\users\\netza\\appdata\\local\\programs\\python\\python312\\lib\\site-packages (from yfinance->-r requirements.txt (line 9)) (0.0.11)\n",
      "Requirement already satisfied: platformdirs>=2.0.0 in c:\\users\\netza\\appdata\\roaming\\python\\python312\\site-packages (from yfinance->-r requirements.txt (line 9)) (4.3.8)\n",
      "Requirement already satisfied: frozendict>=2.3.4 in c:\\users\\netza\\appdata\\local\\programs\\python\\python312\\lib\\site-packages (from yfinance->-r requirements.txt (line 9)) (2.4.6)\n",
      "Requirement already satisfied: peewee>=3.16.2 in c:\\users\\netza\\appdata\\local\\programs\\python\\python312\\lib\\site-packages (from yfinance->-r requirements.txt (line 9)) (3.18.1)\n",
      "Requirement already satisfied: beautifulsoup4>=4.11.1 in c:\\users\\netza\\appdata\\local\\programs\\python\\python312\\lib\\site-packages (from yfinance->-r requirements.txt (line 9)) (4.13.4)\n",
      "Requirement already satisfied: curl_cffi>=0.7 in c:\\users\\netza\\appdata\\local\\programs\\python\\python312\\lib\\site-packages (from yfinance->-r requirements.txt (line 9)) (0.11.1)\n",
      "Requirement already satisfied: websockets>=13.0 in c:\\users\\netza\\appdata\\local\\programs\\python\\python312\\lib\\site-packages (from yfinance->-r requirements.txt (line 9)) (15.0.1)\n",
      "Collecting et-xmlfile (from openpyxl->-r requirements.txt (line 10))\n",
      "  Downloading et_xmlfile-2.0.0-py3-none-any.whl.metadata (2.7 kB)\n",
      "Requirement already satisfied: jinja2 in c:\\users\\netza\\appdata\\local\\programs\\python\\python312\\lib\\site-packages (from altair<6,>=4.0->streamlit->-r requirements.txt (line 2)) (3.1.6)\n",
      "Requirement already satisfied: jsonschema>=3.0 in c:\\users\\netza\\appdata\\local\\programs\\python\\python312\\lib\\site-packages (from altair<6,>=4.0->streamlit->-r requirements.txt (line 2)) (4.23.0)\n",
      "Requirement already satisfied: narwhals>=1.14.2 in c:\\users\\netza\\appdata\\local\\programs\\python\\python312\\lib\\site-packages (from altair<6,>=4.0->streamlit->-r requirements.txt (line 2)) (1.40.0)\n",
      "Requirement already satisfied: soupsieve>1.2 in c:\\users\\netza\\appdata\\local\\programs\\python\\python312\\lib\\site-packages (from beautifulsoup4>=4.11.1->yfinance->-r requirements.txt (line 9)) (2.7)\n",
      "Requirement already satisfied: colorama in c:\\users\\netza\\appdata\\local\\programs\\python\\python312\\lib\\site-packages (from click<9,>=7.0->streamlit->-r requirements.txt (line 2)) (0.4.6)\n",
      "Requirement already satisfied: cffi>=1.12.0 in c:\\users\\netza\\appdata\\local\\programs\\python\\python312\\lib\\site-packages (from curl_cffi>=0.7->yfinance->-r requirements.txt (line 9)) (1.17.1)\n",
      "Requirement already satisfied: certifi>=2024.2.2 in c:\\users\\netza\\appdata\\local\\programs\\python\\python312\\lib\\site-packages (from curl_cffi>=0.7->yfinance->-r requirements.txt (line 9)) (2025.4.26)\n",
      "Requirement already satisfied: gitdb<5,>=4.0.1 in c:\\users\\netza\\appdata\\local\\programs\\python\\python312\\lib\\site-packages (from gitpython!=3.1.19,<4,>=3.0.7->streamlit->-r requirements.txt (line 2)) (4.0.12)\n",
      "Requirement already satisfied: six>=1.5 in c:\\users\\netza\\appdata\\local\\programs\\python\\python312\\lib\\site-packages (from python-dateutil>=2.8.2->pandas->-r requirements.txt (line 1)) (1.17.0)\n",
      "Requirement already satisfied: charset-normalizer<4,>=2 in c:\\users\\netza\\appdata\\local\\programs\\python\\python312\\lib\\site-packages (from requests<3,>=2.27->streamlit->-r requirements.txt (line 2)) (3.4.2)\n",
      "Requirement already satisfied: idna<4,>=2.5 in c:\\users\\netza\\appdata\\local\\programs\\python\\python312\\lib\\site-packages (from requests<3,>=2.27->streamlit->-r requirements.txt (line 2)) (3.7)\n",
      "Requirement already satisfied: urllib3<3,>=1.21.1 in c:\\users\\netza\\appdata\\local\\programs\\python\\python312\\lib\\site-packages (from requests<3,>=2.27->streamlit->-r requirements.txt (line 2)) (2.4.0)\n",
      "Requirement already satisfied: pycparser in c:\\users\\netza\\appdata\\local\\programs\\python\\python312\\lib\\site-packages (from cffi>=1.12.0->curl_cffi>=0.7->yfinance->-r requirements.txt (line 9)) (2.22)\n",
      "Requirement already satisfied: smmap<6,>=3.0.1 in c:\\users\\netza\\appdata\\local\\programs\\python\\python312\\lib\\site-packages (from gitdb<5,>=4.0.1->gitpython!=3.1.19,<4,>=3.0.7->streamlit->-r requirements.txt (line 2)) (5.0.2)\n",
      "Requirement already satisfied: MarkupSafe>=2.0 in c:\\users\\netza\\appdata\\local\\programs\\python\\python312\\lib\\site-packages (from jinja2->altair<6,>=4.0->streamlit->-r requirements.txt (line 2)) (3.0.2)\n",
      "Requirement already satisfied: attrs>=22.2.0 in c:\\users\\netza\\appdata\\local\\programs\\python\\python312\\lib\\site-packages (from jsonschema>=3.0->altair<6,>=4.0->streamlit->-r requirements.txt (line 2)) (25.3.0)\n",
      "Requirement already satisfied: jsonschema-specifications>=2023.03.6 in c:\\users\\netza\\appdata\\local\\programs\\python\\python312\\lib\\site-packages (from jsonschema>=3.0->altair<6,>=4.0->streamlit->-r requirements.txt (line 2)) (2025.4.1)\n",
      "Requirement already satisfied: referencing>=0.28.4 in c:\\users\\netza\\appdata\\local\\programs\\python\\python312\\lib\\site-packages (from jsonschema>=3.0->altair<6,>=4.0->streamlit->-r requirements.txt (line 2)) (0.36.2)\n",
      "Requirement already satisfied: rpds-py>=0.7.1 in c:\\users\\netza\\appdata\\local\\programs\\python\\python312\\lib\\site-packages (from jsonschema>=3.0->altair<6,>=4.0->streamlit->-r requirements.txt (line 2)) (0.25.1)\n",
      "Downloading openpyxl-3.1.5-py2.py3-none-any.whl (250 kB)\n",
      "Downloading et_xmlfile-2.0.0-py3-none-any.whl (18 kB)\n",
      "Installing collected packages: et-xmlfile, openpyxl\n",
      "Successfully installed et-xmlfile-2.0.0 openpyxl-3.1.5\n",
      "Note: you may need to restart the kernel to use updated packages.\n"
     ]
    },
    {
     "name": "stderr",
     "output_type": "stream",
     "text": [
      "\n",
      "[notice] A new release of pip is available: 25.0.1 -> 25.1.1\n",
      "[notice] To update, run: python.exe -m pip install --upgrade pip\n"
     ]
    }
   ],
   "source": [
    "%pip install -r requirements.txt"
   ]
  },
  {
   "cell_type": "markdown",
   "id": "a795fa5a",
   "metadata": {},
   "source": [
    "# If you wanted to run streamlit main.py\n",
    "## Run the below code block only"
   ]
  },
  {
   "cell_type": "code",
   "execution_count": null,
   "id": "451d241d",
   "metadata": {},
   "outputs": [
    {
     "name": "stderr",
     "output_type": "stream",
     "text": [
      "Usage: streamlit run [OPTIONS] TARGET [ARGS]...\n",
      "Try 'streamlit run --help' for help.\n",
      "\n",
      "Error: No such option: --use-excel\n"
     ]
    }
   ],
   "source": [
    "!python -m streamlit run main.py "
   ]
  }
 ],
 "metadata": {
  "kernelspec": {
   "display_name": "Python 3",
   "language": "python",
   "name": "python3"
  },
  "language_info": {
   "codemirror_mode": {
    "name": "ipython",
    "version": 3
   },
   "file_extension": ".py",
   "mimetype": "text/x-python",
   "name": "python",
   "nbconvert_exporter": "python",
   "pygments_lexer": "ipython3",
   "version": "3.12.10"
  }
 },
 "nbformat": 4,
 "nbformat_minor": 5
}
