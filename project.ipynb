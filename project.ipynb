{
 "cells": [
  {
   "cell_type": "markdown",
   "id": "030f3025",
   "metadata": {},
   "source": [
    "# Install these librarires if you havent already"
   ]
  },
  {
   "cell_type": "code",
   "execution_count": null,
   "id": "c2dae40a",
   "metadata": {},
   "outputs": [],
   "source": [
    "%pip install -r requirements.txt"
   ]
  },
  {
   "cell_type": "markdown",
   "id": "a795fa5a",
   "metadata": {},
   "source": [
    "# If you wanted to run streamlit main.py\n",
    "## Run the below code block only"
   ]
  },
  {
   "cell_type": "code",
   "execution_count": null,
   "id": "451d241d",
   "metadata": {},
   "outputs": [],
   "source": [
    "!python3 -m streamlit run main.py"
   ]
  },
  {
   "cell_type": "code",
   "execution_count": null,
   "id": "b7e39412",
   "metadata": {},
   "outputs": [],
   "source": [
    "import sys\n",
    "import pandas as pd\n",
    "from sklearn.linear_model import LinearRegression\n",
    "import numpy as np\n",
    "import matplotlib.pyplot as plt\n",
    "import matplotlib\n",
    "\n",
    "try:\n",
    "    df = pd.read_excel(\"Stocks.xlsx\", sheet_name=\"Stocks\", skiprows=1)\n",
    "except FileNotFoundError:\n",
    "    print(\"The file cannot be found!\")\n",
    "    sys.exit()\n",
    "\n",
    "df.columns = [\n",
    "\"วันที่\", \"ราคาเปิด\", \"ราคาสูงสุด\", \"ราคาต ่าสุด\", \"ราคาเฉลี่ย\", \"ราคาปิด\",\n",
    "\"เปลี่ยนแปลง\", \"เปลี่ยนแปลง(%)\", \"ปริมาณ(พันหุ้น)\", \"มูลค่า(ล้านบาท)\",\n",
    "\"SET Index\", \"SET เปลี่ยนแปลง(%)\"\n",
    "]\n",
    "thai_months = {\n",
    "\"ม.ค.\": \"01\", \"ก.พ.\": \"02\", \"มี.ค.\": \"03\", \"เม.ย.\": \"04\",\n",
    "\"พ.ค.\": \"05\", \"มิ.ย.\": \"06\", \"ก.ค.\": \"07\", \"ส.ค.\": \"08\",\n",
    "\"ก.ย.\": \"09\", \"ต.ค.\": \"10\", \"พ.ย.\": \"11\", \"ธ.ค.\": \"12\"\n",
    "}\n",
    "def convert_thai_date(thai_date_str):\n",
    "    for th, num in thai_months.items():\n",
    "        if th in thai_date_str:\n",
    "            day, month_th, year_th = thai_date_str.replace(\",\", \"\").split()\n",
    "            month = thai_months[month_th]\n",
    "            year = int(year_th) - 543\n",
    "            return f\"{year}-{month}-{int(day):02d}\"\n",
    "    return None\n",
    "\n",
    "df = df[~df[\"วันที่\"].isna() & ~df[\"วันที่\"].str.contains(\"วันที่\")]\n",
    "df[\"วันที่\"] = df[\"วันที่\"].apply(convert_thai_date)\n",
    "df[\"วันที่\"] = pd.to_datetime(df[\"วันที่\"])\n",
    "df = df.dropna()\n",
    "df.head(5)\n",
    "\n",
    "\n",
    "print(df[\"ราคาปิด\"].describe())\n",
    "print(df[df[\"ราคาปิด\"] == df[\"ราคาปิด\"].max()])\n",
    "print(df[[\"ราคาปิด\", \"SET Index\"]].corr())\n",
    "\n",
    "\n",
    "matplotlib.rcParams['font.family'] = 'DejaVu Sans'\n",
    "df_sorted = df.sort_values(\"วันที่\")\n",
    "X = df_sorted[\"วันที่\"].map(pd.Timestamp.toordinal).to_numpy().reshape(-1, 1)\n",
    "y = df_sorted[\"ราคาปิด\"].astype(float).to_numpy()\n",
    "\n",
    "model = LinearRegression()\n",
    "model.fit(X, y)\n",
    "trend = model.predict(X)\n",
    "\n",
    "plt.figure(figsize=(12, 6))\n",
    "plt.plot(df_sorted[\"วันที่\"], y, label=\"Actual Closing Price\")\n",
    "plt.plot(df_sorted[\"วันที่\"], trend, label=\"Trend (Linear Regression)\", linestyle=\"--\", color=\"red\")\n",
    "plt.title(\"Chosen stock Closing Price Trend\")\n",
    "plt.xlabel(\"Date\")\n",
    "plt.ylabel(\"Closing Price (Baht)\")\n",
    "plt.legend()\n",
    "plt.grid(True)\n",
    "plt.tight_layout()\n",
    "plt.show()\n",
    "\n",
    "# Save the plot as an image\n",
    "plt.savefig(\"Stock-results.png\")\n",
    "\n",
    "# Save the data (date, actual, trend) to CSV\n",
    "output_df = pd.DataFrame({\n",
    "    \"Date\": df_sorted[\"วันที่\"].dt.strftime(\"%Y-%m-%d\"),\n",
    "    \"Closing price\": y,\n",
    "    \"Trend\": trend\n",
    "})\n",
    "output_df.to_csv(\"Stock-results.csv\", index=False)\n",
    "\n",
    "!python3 -m streamlit run main.py"
   ]
  }
 ],
 "metadata": {
  "kernelspec": {
   "display_name": "Python 3",
   "language": "python",
   "name": "python3"
  },
  "language_info": {
   "codemirror_mode": {
    "name": "ipython",
    "version": 3
   },
   "file_extension": ".py",
   "mimetype": "text/x-python",
   "name": "python",
   "nbconvert_exporter": "python",
   "pygments_lexer": "ipython3",
   "version": "3.10.12"
  }
 },
 "nbformat": 4,
 "nbformat_minor": 5
}
