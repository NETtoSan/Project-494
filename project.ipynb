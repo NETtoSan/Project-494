{
 "cells": [
  {
   "cell_type": "code",
   "execution_count": null,
   "id": "d28464ba",
   "metadata": {},
   "outputs": [
    {
     "name": "stdout",
     "output_type": "stream",
     "text": [
      "Hello!\n"
     ]
    }
   ],
   "source": [
    "import pandas as pd\n",
    "df = pd.read_excel(\"KBANK-SET-9May2025-6M.xlsx\", sheet_name=\"KBANK\", skiprows=1)\n",
    "df.columns = [\n",
    "\"วันที่\", \"ราคาเปิด\", \"ราคาสูงสุด\", \"ราคาต ่าสุด\", \"ราคาเฉลี่ย\", \"ราคาปิด\",\n",
    "\"เปลี่ยนแปลง\", \"เปลี่ยนแปลง(%)\", \"ปริมาณ(พันหุ้น)\", \"มูลค่า(ล้านบาท)\",\n",
    "\"SET Index\", \"SET เปลี่ยนแปลง(%)\"\n",
    "]\n",
    "thai_months = {\n",
    "\"ม.ค.\": \"01\", \"ก.พ.\": \"02\", \"มี.ค.\": \"03\", \"เม.ย.\": \"04\",\n",
    "\"พ.ค.\": \"05\", \"มิ.ย.\": \"06\", \"ก.ค.\": \"07\", \"ส.ค.\": \"08\",\n",
    "\"ก.ย.\": \"09\", \"ต.ค.\": \"10\", \"พ.ย.\": \"11\", \"ธ.ค.\": \"12\"\n",
    "}\n",
    "def convert_thai_date(thai_date_str):\n",
    "for th, num in thai_months.items():\n",
    "if th in thai_date_str:\n",
    "day, month_th, year_th = thai_date_str.replace(\",\", \"\").split()\n",
    "month = thai_months[month_th]\n",
    "year = int(year_th) - 543\n",
    "return f\"{year}-{month}-{int(day):02d}\"\n",
    "return None\n",
    "df = df[~df[\"วันที่\"].isna() & ~df[\"วันที่\"].str.contains(\"วันที่\")]\n",
    "df[\"วันที่\"] = df[\"วันที่\"].apply(convert_thai_date)\n",
    "df[\"วันที่\"] = pd.to_datetime(df[\"วันที่\"])\n",
    "df = df.dropna()\n",
    "df.head(5)"
   ]
  }
 ],
 "metadata": {
  "kernelspec": {
   "display_name": "Python 3",
   "language": "python",
   "name": "python3"
  },
  "language_info": {
   "codemirror_mode": {
    "name": "ipython",
    "version": 3
   },
   "file_extension": ".py",
   "mimetype": "text/x-python",
   "name": "python",
   "nbconvert_exporter": "python",
   "pygments_lexer": "ipython3",
   "version": "3.10.12"
  }
 },
 "nbformat": 4,
 "nbformat_minor": 5
}
